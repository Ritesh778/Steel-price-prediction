{
 "cells": [
  {
   "cell_type": "markdown",
   "id": "b5a90fa6",
   "metadata": {},
   "source": [
    "#  Introduction\n",
    "In this project, we will be analyzing the “daily_offers.xlsx” dataset that contains information about steel items offered to customers. The dataset contains 14 columns with 181673 rows of data. Each row represents an item, and has an offered/selling price of that item.\n",
    "\n",
    "The main objective of this project is to build regression models to predict the price of an item. To achieve this, we will first perform data cleaning, feature engineering, and exploratory data analysis (EDA). We will then split the data into training and testing sets in the ratio of 90:10 and build regression models to predict the selling price of an item. Finally, we will evaluate the best model using the metric r2 score on the testing set.\n"
   ]
  },
  {
   "cell_type": "markdown",
   "id": "b2bda979",
   "metadata": {},
   "source": [
    "# Column descriptions\n",
    "\n",
    "Table- `daily_offers`<br>\n",
    "    `id`:A unique identifier for each steel item.<br>\n",
    "    `item_date`: The date on which the steel item was added to the dataset.<br>\n",
    "    `quantity tons`: The quantity of steel item in tons.<br>\n",
    "    `customer`: The id of the customer who ordered the steel item.<br>\n",
    "    `country`: The country id where the steel item is delivered.<br>\n",
    "    `status`: The current status of the steel item.<br>\n",
    "       \"Won\" indicate that a sale has been successfully completed or a procurement order has been approved.<br>\n",
    "       \"Draft\" indicate that a proposal or order is still being worked on and has not yet been finalized.<br>\n",
    "       \"To be approved\" indicate that a proposal or order has been submitted for approval, but a final decision has not yet been made.<br>      \"Lost\" could mean that the order did not go through or was not successful for some reason.<br>\n",
    "    `item type`: The type of steel item.<br>\n",
    "            \"W\" stands for \"wide-flange\" W-section steel beam<br>\n",
    "            \"S\" stands for \"standard\" S-section steel beam<br> `application`: The purpose for which the steel item is used.<br>\n",
    "    `thickness`: The thickness of the steel item.<br>\n",
    "    `width`: The width of the steel item.<br>\n",
    "    `material_ref`: The reference number for the material used in the steel item.<br>\n",
    "    `product_ref`: The reference number for the steel item.<br>\n",
    "    `delivery date`: The expected delivery date of the steel item.<br>\n",
    "    `selling_price`: The offered/selling price of the steel item.<br>"
   ]
  },
  {
   "cell_type": "markdown",
   "id": "a9def2bb",
   "metadata": {},
   "source": [
    "#  Data Exploration\n",
    "In this section, we will explore the dataset to gain insights into the data and its characteristics.\n",
    "\n",
    "Importing Libraries\n",
    "We will start by importing the necessary libraries for data manipulation and visualization."
   ]
  },
  {
   "cell_type": "code",
   "execution_count": 37,
   "id": "e937eb32",
   "metadata": {},
   "outputs": [],
   "source": [
    "import pandas as pd\n",
    "import numpy as np\n",
    "import matplotlib.pyplot as plt\n",
    "import seaborn as sns"
   ]
  },
  {
   "cell_type": "markdown",
   "id": "1c2b20a4",
   "metadata": {},
   "source": [
    "# Loading the Dataset\n"
   ]
  },
  {
   "cell_type": "code",
   "execution_count": 38,
   "id": "46cb15ad",
   "metadata": {},
   "outputs": [],
   "source": [
    "# Read in the data\n",
    "df = pd.read_excel('daily_offers.xlsx')"
   ]
  },
  {
   "cell_type": "markdown",
   "id": "19ad8711",
   "metadata": {},
   "source": [
    "####  How big is the data?"
   ]
  },
  {
   "cell_type": "code",
   "execution_count": 39,
   "id": "e939ed3e",
   "metadata": {},
   "outputs": [
    {
     "data": {
      "text/plain": [
       "(181673, 14)"
      ]
     },
     "execution_count": 39,
     "metadata": {},
     "output_type": "execute_result"
    }
   ],
   "source": [
    "df.shape"
   ]
  },
  {
   "cell_type": "markdown",
   "id": "5664c630",
   "metadata": {},
   "source": [
    "#####  How does the data look like?"
   ]
  },
  {
   "cell_type": "code",
   "execution_count": 40,
   "id": "f18eb26f",
   "metadata": {},
   "outputs": [
    {
     "data": {
      "text/html": [
       "<div>\n",
       "<style scoped>\n",
       "    .dataframe tbody tr th:only-of-type {\n",
       "        vertical-align: middle;\n",
       "    }\n",
       "\n",
       "    .dataframe tbody tr th {\n",
       "        vertical-align: top;\n",
       "    }\n",
       "\n",
       "    .dataframe thead th {\n",
       "        text-align: right;\n",
       "    }\n",
       "</style>\n",
       "<table border=\"1\" class=\"dataframe\">\n",
       "  <thead>\n",
       "    <tr style=\"text-align: right;\">\n",
       "      <th></th>\n",
       "      <th>id</th>\n",
       "      <th>item_date</th>\n",
       "      <th>quantity tons</th>\n",
       "      <th>customer</th>\n",
       "      <th>country</th>\n",
       "      <th>status</th>\n",
       "      <th>item type</th>\n",
       "      <th>application</th>\n",
       "      <th>thickness</th>\n",
       "      <th>width</th>\n",
       "      <th>material_ref</th>\n",
       "      <th>product_ref</th>\n",
       "      <th>delivery date</th>\n",
       "      <th>selling_price</th>\n",
       "    </tr>\n",
       "  </thead>\n",
       "  <tbody>\n",
       "    <tr>\n",
       "      <th>75840</th>\n",
       "      <td>8D313EE1-A70A-4751-A8CC-C9F829B94A2B</td>\n",
       "      <td>20201215.0</td>\n",
       "      <td>375.296266</td>\n",
       "      <td>30202102.0</td>\n",
       "      <td>26.0</td>\n",
       "      <td>Won</td>\n",
       "      <td>WI</td>\n",
       "      <td>25.0</td>\n",
       "      <td>0.70</td>\n",
       "      <td>1143.0</td>\n",
       "      <td>CS0711430</td>\n",
       "      <td>628377</td>\n",
       "      <td>20210101.0</td>\n",
       "      <td>658.10</td>\n",
       "    </tr>\n",
       "    <tr>\n",
       "      <th>71809</th>\n",
       "      <td>E0C6EAB7-20D3-46CA-BC02-1DAB442C537C</td>\n",
       "      <td>20201222.0</td>\n",
       "      <td>2.583709</td>\n",
       "      <td>30267349.0</td>\n",
       "      <td>84.0</td>\n",
       "      <td>Won</td>\n",
       "      <td>W</td>\n",
       "      <td>10.0</td>\n",
       "      <td>3.00</td>\n",
       "      <td>1240.0</td>\n",
       "      <td>1340B100P6FSL</td>\n",
       "      <td>164141591</td>\n",
       "      <td>20210101.0</td>\n",
       "      <td>792.67</td>\n",
       "    </tr>\n",
       "    <tr>\n",
       "      <th>99950</th>\n",
       "      <td>4B36FD0B-4B4A-417E-A6B6-F69F05868032</td>\n",
       "      <td>20201119.0</td>\n",
       "      <td>31.142511</td>\n",
       "      <td>30405913.0</td>\n",
       "      <td>26.0</td>\n",
       "      <td>Lost</td>\n",
       "      <td>S</td>\n",
       "      <td>38.0</td>\n",
       "      <td>0.62</td>\n",
       "      <td>1450.0</td>\n",
       "      <td>NaN</td>\n",
       "      <td>1332077137</td>\n",
       "      <td>20210101.0</td>\n",
       "      <td>767.00</td>\n",
       "    </tr>\n",
       "    <tr>\n",
       "      <th>13902</th>\n",
       "      <td>25873AFE-5109-4931-A191-5983BA4F646E</td>\n",
       "      <td>20210316.0</td>\n",
       "      <td>27.465018</td>\n",
       "      <td>30165992.0</td>\n",
       "      <td>77.0</td>\n",
       "      <td>Won</td>\n",
       "      <td>S</td>\n",
       "      <td>10.0</td>\n",
       "      <td>3.00</td>\n",
       "      <td>1000.0</td>\n",
       "      <td>FEPA000320018608000</td>\n",
       "      <td>628377</td>\n",
       "      <td>20210701.0</td>\n",
       "      <td>924.00</td>\n",
       "    </tr>\n",
       "    <tr>\n",
       "      <th>23476</th>\n",
       "      <td>59518FE2-E4CD-4AF7-B8C0-3613F65B73EF</td>\n",
       "      <td>20210305.0</td>\n",
       "      <td>27.683799</td>\n",
       "      <td>30161088.0</td>\n",
       "      <td>78.0</td>\n",
       "      <td>Won</td>\n",
       "      <td>W</td>\n",
       "      <td>10.0</td>\n",
       "      <td>0.40</td>\n",
       "      <td>1250.0</td>\n",
       "      <td>NaN</td>\n",
       "      <td>164141591</td>\n",
       "      <td>20210501.0</td>\n",
       "      <td>1077.00</td>\n",
       "    </tr>\n",
       "    <tr>\n",
       "      <th>96571</th>\n",
       "      <td>75FD84B5-D338-4BF7-88CA-C04BCF0517C5</td>\n",
       "      <td>20201124.0</td>\n",
       "      <td>6.843838</td>\n",
       "      <td>30205434.0</td>\n",
       "      <td>27.0</td>\n",
       "      <td>Won</td>\n",
       "      <td>W</td>\n",
       "      <td>10.0</td>\n",
       "      <td>1.80</td>\n",
       "      <td>1110.0</td>\n",
       "      <td>DD 12 CUTT</td>\n",
       "      <td>1670798778</td>\n",
       "      <td>20210301.0</td>\n",
       "      <td>685.00</td>\n",
       "    </tr>\n",
       "    <tr>\n",
       "      <th>132278</th>\n",
       "      <td>1F934EE3-8B8E-43BD-9D5D-464376A68846</td>\n",
       "      <td>20201001.0</td>\n",
       "      <td>118.990357</td>\n",
       "      <td>30394008.0</td>\n",
       "      <td>27.0</td>\n",
       "      <td>Lost</td>\n",
       "      <td>S</td>\n",
       "      <td>41.0</td>\n",
       "      <td>0.76</td>\n",
       "      <td>1250.0</td>\n",
       "      <td>NaN</td>\n",
       "      <td>611993</td>\n",
       "      <td>20210101.0</td>\n",
       "      <td>786.00</td>\n",
       "    </tr>\n",
       "    <tr>\n",
       "      <th>163287</th>\n",
       "      <td>575D24AA-3F07-4CDD-83AB-9E0F7912C7FE</td>\n",
       "      <td>20200730.0</td>\n",
       "      <td>401.421431</td>\n",
       "      <td>30164630.0</td>\n",
       "      <td>27.0</td>\n",
       "      <td>Not lost for AM</td>\n",
       "      <td>S</td>\n",
       "      <td>15.0</td>\n",
       "      <td>1.50</td>\n",
       "      <td>1250.0</td>\n",
       "      <td>DC04</td>\n",
       "      <td>628377</td>\n",
       "      <td>20201001.0</td>\n",
       "      <td>532.00</td>\n",
       "    </tr>\n",
       "    <tr>\n",
       "      <th>83581</th>\n",
       "      <td>1A91D4B8-D843-4C01-8EE0-65DDA85503DD</td>\n",
       "      <td>20201208.0</td>\n",
       "      <td>32.772454</td>\n",
       "      <td>30230165.0</td>\n",
       "      <td>77.0</td>\n",
       "      <td>Won</td>\n",
       "      <td>S</td>\n",
       "      <td>68.0</td>\n",
       "      <td>4.00</td>\n",
       "      <td>1250.0</td>\n",
       "      <td>70052373KRA</td>\n",
       "      <td>640405</td>\n",
       "      <td>20210101.0</td>\n",
       "      <td>704.00</td>\n",
       "    </tr>\n",
       "    <tr>\n",
       "      <th>104105</th>\n",
       "      <td>33AF2081-AD88-409C-A376-FA50769F36D8</td>\n",
       "      <td>20201113.0</td>\n",
       "      <td>28.479122</td>\n",
       "      <td>30165992.0</td>\n",
       "      <td>77.0</td>\n",
       "      <td>Won</td>\n",
       "      <td>S</td>\n",
       "      <td>10.0</td>\n",
       "      <td>0.95</td>\n",
       "      <td>1250.0</td>\n",
       "      <td>FZPA001210007231000</td>\n",
       "      <td>164141591</td>\n",
       "      <td>20210101.0</td>\n",
       "      <td>736.00</td>\n",
       "    </tr>\n",
       "  </tbody>\n",
       "</table>\n",
       "</div>"
      ],
      "text/plain": [
       "                                          id   item_date quantity tons  \\\n",
       "75840   8D313EE1-A70A-4751-A8CC-C9F829B94A2B  20201215.0    375.296266   \n",
       "71809   E0C6EAB7-20D3-46CA-BC02-1DAB442C537C  20201222.0      2.583709   \n",
       "99950   4B36FD0B-4B4A-417E-A6B6-F69F05868032  20201119.0     31.142511   \n",
       "13902   25873AFE-5109-4931-A191-5983BA4F646E  20210316.0     27.465018   \n",
       "23476   59518FE2-E4CD-4AF7-B8C0-3613F65B73EF  20210305.0     27.683799   \n",
       "96571   75FD84B5-D338-4BF7-88CA-C04BCF0517C5  20201124.0      6.843838   \n",
       "132278  1F934EE3-8B8E-43BD-9D5D-464376A68846  20201001.0    118.990357   \n",
       "163287  575D24AA-3F07-4CDD-83AB-9E0F7912C7FE  20200730.0    401.421431   \n",
       "83581   1A91D4B8-D843-4C01-8EE0-65DDA85503DD  20201208.0     32.772454   \n",
       "104105  33AF2081-AD88-409C-A376-FA50769F36D8  20201113.0     28.479122   \n",
       "\n",
       "          customer  country           status item type  application  \\\n",
       "75840   30202102.0     26.0              Won        WI         25.0   \n",
       "71809   30267349.0     84.0              Won         W         10.0   \n",
       "99950   30405913.0     26.0             Lost         S         38.0   \n",
       "13902   30165992.0     77.0              Won         S         10.0   \n",
       "23476   30161088.0     78.0              Won         W         10.0   \n",
       "96571   30205434.0     27.0              Won         W         10.0   \n",
       "132278  30394008.0     27.0             Lost         S         41.0   \n",
       "163287  30164630.0     27.0  Not lost for AM         S         15.0   \n",
       "83581   30230165.0     77.0              Won         S         68.0   \n",
       "104105  30165992.0     77.0              Won         S         10.0   \n",
       "\n",
       "        thickness   width         material_ref  product_ref  delivery date  \\\n",
       "75840        0.70  1143.0            CS0711430       628377     20210101.0   \n",
       "71809        3.00  1240.0        1340B100P6FSL    164141591     20210101.0   \n",
       "99950        0.62  1450.0                  NaN   1332077137     20210101.0   \n",
       "13902        3.00  1000.0  FEPA000320018608000       628377     20210701.0   \n",
       "23476        0.40  1250.0                  NaN    164141591     20210501.0   \n",
       "96571        1.80  1110.0           DD 12 CUTT   1670798778     20210301.0   \n",
       "132278       0.76  1250.0                  NaN       611993     20210101.0   \n",
       "163287       1.50  1250.0                 DC04       628377     20201001.0   \n",
       "83581        4.00  1250.0          70052373KRA       640405     20210101.0   \n",
       "104105       0.95  1250.0  FZPA001210007231000    164141591     20210101.0   \n",
       "\n",
       "        selling_price  \n",
       "75840          658.10  \n",
       "71809          792.67  \n",
       "99950          767.00  \n",
       "13902          924.00  \n",
       "23476         1077.00  \n",
       "96571          685.00  \n",
       "132278         786.00  \n",
       "163287         532.00  \n",
       "83581          704.00  \n",
       "104105         736.00  "
      ]
     },
     "execution_count": 40,
     "metadata": {},
     "output_type": "execute_result"
    }
   ],
   "source": [
    "df.sample(10)"
   ]
  },
  {
   "cell_type": "markdown",
   "id": "a5ae003b",
   "metadata": {},
   "source": [
    "####  What is the data type of cols?"
   ]
  },
  {
   "cell_type": "code",
   "execution_count": 41,
   "id": "c25f464f",
   "metadata": {},
   "outputs": [
    {
     "name": "stdout",
     "output_type": "stream",
     "text": [
      "<class 'pandas.core.frame.DataFrame'>\n",
      "RangeIndex: 181673 entries, 0 to 181672\n",
      "Data columns (total 14 columns):\n",
      " #   Column         Non-Null Count   Dtype  \n",
      "---  ------         --------------   -----  \n",
      " 0   id             181671 non-null  object \n",
      " 1   item_date      181672 non-null  float64\n",
      " 2   quantity tons  181673 non-null  object \n",
      " 3   customer       181672 non-null  float64\n",
      " 4   country        181645 non-null  float64\n",
      " 5   status         181671 non-null  object \n",
      " 6   item type      181673 non-null  object \n",
      " 7   application    181649 non-null  float64\n",
      " 8   thickness      181672 non-null  float64\n",
      " 9   width          181673 non-null  float64\n",
      " 10  material_ref   103754 non-null  object \n",
      " 11  product_ref    181673 non-null  int64  \n",
      " 12  delivery date  181672 non-null  float64\n",
      " 13  selling_price  181672 non-null  float64\n",
      "dtypes: float64(8), int64(1), object(5)\n",
      "memory usage: 19.4+ MB\n"
     ]
    }
   ],
   "source": [
    "df.info()"
   ]
  },
  {
   "cell_type": "markdown",
   "id": "1e5814d8",
   "metadata": {},
   "source": [
    "# Data Cleaning\n",
    "After loading the data, we will check for missing values and duplicate rows."
   ]
  },
  {
   "cell_type": "code",
   "execution_count": 42,
   "id": "2f693b10",
   "metadata": {},
   "outputs": [
    {
     "name": "stdout",
     "output_type": "stream",
     "text": [
      "Missing values:\n",
      "id                   2\n",
      "item_date            1\n",
      "quantity tons        0\n",
      "customer             1\n",
      "country             28\n",
      "status               2\n",
      "item type            0\n",
      "application         24\n",
      "thickness            1\n",
      "width                0\n",
      "material_ref     77919\n",
      "product_ref          0\n",
      "delivery date        1\n",
      "selling_price        1\n",
      "dtype: int64\n"
     ]
    }
   ],
   "source": [
    "# Check for missing values\n",
    "print('Missing values:')\n",
    "print(df.isnull().sum())"
   ]
  },
  {
   "cell_type": "code",
   "execution_count": 43,
   "id": "f528c6bb",
   "metadata": {},
   "outputs": [
    {
     "data": {
      "text/plain": [
       "id                0.001101\n",
       "item_date         0.000550\n",
       "quantity tons     0.000000\n",
       "customer          0.000550\n",
       "country           0.015412\n",
       "status            0.001101\n",
       "item type         0.000000\n",
       "application       0.013211\n",
       "thickness         0.000550\n",
       "width             0.000000\n",
       "material_ref     42.889697\n",
       "product_ref       0.000000\n",
       "delivery date     0.000550\n",
       "selling_price     0.000550\n",
       "dtype: float64"
      ]
     },
     "execution_count": 43,
     "metadata": {},
     "output_type": "execute_result"
    }
   ],
   "source": [
    "percent_missing = df.isnull().sum() * 100 / len(df)\n",
    "percent_missing"
   ]
  },
  {
   "cell_type": "markdown",
   "id": "038f62e1",
   "metadata": {},
   "source": [
    "#####  How does the data look mathematically?"
   ]
  },
  {
   "cell_type": "code",
   "execution_count": 44,
   "id": "7b64dc70",
   "metadata": {},
   "outputs": [
    {
     "data": {
      "text/html": [
       "<div>\n",
       "<style scoped>\n",
       "    .dataframe tbody tr th:only-of-type {\n",
       "        vertical-align: middle;\n",
       "    }\n",
       "\n",
       "    .dataframe tbody tr th {\n",
       "        vertical-align: top;\n",
       "    }\n",
       "\n",
       "    .dataframe thead th {\n",
       "        text-align: right;\n",
       "    }\n",
       "</style>\n",
       "<table border=\"1\" class=\"dataframe\">\n",
       "  <thead>\n",
       "    <tr style=\"text-align: right;\">\n",
       "      <th></th>\n",
       "      <th>item_date</th>\n",
       "      <th>customer</th>\n",
       "      <th>country</th>\n",
       "      <th>application</th>\n",
       "      <th>thickness</th>\n",
       "      <th>width</th>\n",
       "      <th>product_ref</th>\n",
       "      <th>delivery date</th>\n",
       "      <th>selling_price</th>\n",
       "    </tr>\n",
       "  </thead>\n",
       "  <tbody>\n",
       "    <tr>\n",
       "      <th>count</th>\n",
       "      <td>1.816720e+05</td>\n",
       "      <td>1.816720e+05</td>\n",
       "      <td>181645.000000</td>\n",
       "      <td>181649.000000</td>\n",
       "      <td>181672.000000</td>\n",
       "      <td>181673.000000</td>\n",
       "      <td>1.816730e+05</td>\n",
       "      <td>1.816720e+05</td>\n",
       "      <td>1.816720e+05</td>\n",
       "    </tr>\n",
       "    <tr>\n",
       "      <th>mean</th>\n",
       "      <td>2.020459e+07</td>\n",
       "      <td>3.051221e+07</td>\n",
       "      <td>44.893022</td>\n",
       "      <td>25.615809</td>\n",
       "      <td>2.564827</td>\n",
       "      <td>1295.286724</td>\n",
       "      <td>4.739679e+08</td>\n",
       "      <td>2.020738e+07</td>\n",
       "      <td>1.918036e+03</td>\n",
       "    </tr>\n",
       "    <tr>\n",
       "      <th>std</th>\n",
       "      <td>4.551119e+03</td>\n",
       "      <td>2.433382e+07</td>\n",
       "      <td>24.404214</td>\n",
       "      <td>17.754175</td>\n",
       "      <td>6.572321</td>\n",
       "      <td>261.631754</td>\n",
       "      <td>7.175101e+08</td>\n",
       "      <td>2.411059e+04</td>\n",
       "      <td>3.317956e+05</td>\n",
       "    </tr>\n",
       "    <tr>\n",
       "      <th>min</th>\n",
       "      <td>1.995000e+07</td>\n",
       "      <td>1.245800e+04</td>\n",
       "      <td>25.000000</td>\n",
       "      <td>2.000000</td>\n",
       "      <td>0.180000</td>\n",
       "      <td>1.000000</td>\n",
       "      <td>6.117280e+05</td>\n",
       "      <td>2.019040e+07</td>\n",
       "      <td>-1.160000e+03</td>\n",
       "    </tr>\n",
       "    <tr>\n",
       "      <th>25%</th>\n",
       "      <td>2.020093e+07</td>\n",
       "      <td>3.019688e+07</td>\n",
       "      <td>26.000000</td>\n",
       "      <td>10.000000</td>\n",
       "      <td>0.700000</td>\n",
       "      <td>1180.000000</td>\n",
       "      <td>6.119930e+05</td>\n",
       "      <td>2.020110e+07</td>\n",
       "      <td>6.690000e+02</td>\n",
       "    </tr>\n",
       "    <tr>\n",
       "      <th>50%</th>\n",
       "      <td>2.020113e+07</td>\n",
       "      <td>3.020524e+07</td>\n",
       "      <td>30.000000</td>\n",
       "      <td>15.000000</td>\n",
       "      <td>1.500000</td>\n",
       "      <td>1250.000000</td>\n",
       "      <td>6.406650e+05</td>\n",
       "      <td>2.021010e+07</td>\n",
       "      <td>8.120000e+02</td>\n",
       "    </tr>\n",
       "    <tr>\n",
       "      <th>75%</th>\n",
       "      <td>2.021020e+07</td>\n",
       "      <td>3.028042e+07</td>\n",
       "      <td>78.000000</td>\n",
       "      <td>41.000000</td>\n",
       "      <td>3.000000</td>\n",
       "      <td>1500.000000</td>\n",
       "      <td>1.332077e+09</td>\n",
       "      <td>2.021040e+07</td>\n",
       "      <td>9.530000e+02</td>\n",
       "    </tr>\n",
       "    <tr>\n",
       "      <th>max</th>\n",
       "      <td>2.021040e+07</td>\n",
       "      <td>2.147484e+09</td>\n",
       "      <td>113.000000</td>\n",
       "      <td>99.000000</td>\n",
       "      <td>2500.000000</td>\n",
       "      <td>2990.000000</td>\n",
       "      <td>1.722208e+09</td>\n",
       "      <td>3.031010e+07</td>\n",
       "      <td>1.000010e+08</td>\n",
       "    </tr>\n",
       "  </tbody>\n",
       "</table>\n",
       "</div>"
      ],
      "text/plain": [
       "          item_date      customer        country    application  \\\n",
       "count  1.816720e+05  1.816720e+05  181645.000000  181649.000000   \n",
       "mean   2.020459e+07  3.051221e+07      44.893022      25.615809   \n",
       "std    4.551119e+03  2.433382e+07      24.404214      17.754175   \n",
       "min    1.995000e+07  1.245800e+04      25.000000       2.000000   \n",
       "25%    2.020093e+07  3.019688e+07      26.000000      10.000000   \n",
       "50%    2.020113e+07  3.020524e+07      30.000000      15.000000   \n",
       "75%    2.021020e+07  3.028042e+07      78.000000      41.000000   \n",
       "max    2.021040e+07  2.147484e+09     113.000000      99.000000   \n",
       "\n",
       "           thickness          width   product_ref  delivery date  \\\n",
       "count  181672.000000  181673.000000  1.816730e+05   1.816720e+05   \n",
       "mean        2.564827    1295.286724  4.739679e+08   2.020738e+07   \n",
       "std         6.572321     261.631754  7.175101e+08   2.411059e+04   \n",
       "min         0.180000       1.000000  6.117280e+05   2.019040e+07   \n",
       "25%         0.700000    1180.000000  6.119930e+05   2.020110e+07   \n",
       "50%         1.500000    1250.000000  6.406650e+05   2.021010e+07   \n",
       "75%         3.000000    1500.000000  1.332077e+09   2.021040e+07   \n",
       "max      2500.000000    2990.000000  1.722208e+09   3.031010e+07   \n",
       "\n",
       "       selling_price  \n",
       "count   1.816720e+05  \n",
       "mean    1.918036e+03  \n",
       "std     3.317956e+05  \n",
       "min    -1.160000e+03  \n",
       "25%     6.690000e+02  \n",
       "50%     8.120000e+02  \n",
       "75%     9.530000e+02  \n",
       "max     1.000010e+08  "
      ]
     },
     "execution_count": 44,
     "metadata": {},
     "output_type": "execute_result"
    }
   ],
   "source": [
    "df.describe()"
   ]
  },
  {
   "cell_type": "markdown",
   "id": "67156810",
   "metadata": {},
   "source": [
    "##### Are there duplicate values?"
   ]
  },
  {
   "cell_type": "code",
   "execution_count": 45,
   "id": "24a1b0e7",
   "metadata": {},
   "outputs": [
    {
     "name": "stdout",
     "output_type": "stream",
     "text": [
      "Duplicate rows: 0\n"
     ]
    }
   ],
   "source": [
    "# Check for duplicates\n",
    "print('Duplicate rows:', df.duplicated().sum())"
   ]
  },
  {
   "cell_type": "code",
   "execution_count": 46,
   "id": "cbe56cb7",
   "metadata": {},
   "outputs": [
    {
     "data": {
      "text/html": [
       "<div>\n",
       "<style scoped>\n",
       "    .dataframe tbody tr th:only-of-type {\n",
       "        vertical-align: middle;\n",
       "    }\n",
       "\n",
       "    .dataframe tbody tr th {\n",
       "        vertical-align: top;\n",
       "    }\n",
       "\n",
       "    .dataframe thead th {\n",
       "        text-align: right;\n",
       "    }\n",
       "</style>\n",
       "<table border=\"1\" class=\"dataframe\">\n",
       "  <thead>\n",
       "    <tr style=\"text-align: right;\">\n",
       "      <th></th>\n",
       "      <th>item_date</th>\n",
       "      <th>quantity tons</th>\n",
       "      <th>customer</th>\n",
       "      <th>country</th>\n",
       "      <th>status</th>\n",
       "      <th>item type</th>\n",
       "      <th>application</th>\n",
       "      <th>thickness</th>\n",
       "      <th>width</th>\n",
       "      <th>product_ref</th>\n",
       "      <th>delivery date</th>\n",
       "      <th>selling_price</th>\n",
       "    </tr>\n",
       "  </thead>\n",
       "  <tbody>\n",
       "    <tr>\n",
       "      <th>0</th>\n",
       "      <td>20210401.0</td>\n",
       "      <td>54.151139</td>\n",
       "      <td>30156308.0</td>\n",
       "      <td>28.0</td>\n",
       "      <td>Won</td>\n",
       "      <td>W</td>\n",
       "      <td>10.0</td>\n",
       "      <td>2.00</td>\n",
       "      <td>1500.0</td>\n",
       "      <td>1670798778</td>\n",
       "      <td>20210701.0</td>\n",
       "      <td>854.00</td>\n",
       "    </tr>\n",
       "    <tr>\n",
       "      <th>1</th>\n",
       "      <td>20210401.0</td>\n",
       "      <td>768.024839</td>\n",
       "      <td>30202938.0</td>\n",
       "      <td>25.0</td>\n",
       "      <td>Won</td>\n",
       "      <td>W</td>\n",
       "      <td>41.0</td>\n",
       "      <td>0.80</td>\n",
       "      <td>1210.0</td>\n",
       "      <td>1668701718</td>\n",
       "      <td>20210401.0</td>\n",
       "      <td>1047.00</td>\n",
       "    </tr>\n",
       "    <tr>\n",
       "      <th>2</th>\n",
       "      <td>20210401.0</td>\n",
       "      <td>386.127949</td>\n",
       "      <td>30153963.0</td>\n",
       "      <td>30.0</td>\n",
       "      <td>Won</td>\n",
       "      <td>WI</td>\n",
       "      <td>28.0</td>\n",
       "      <td>0.38</td>\n",
       "      <td>952.0</td>\n",
       "      <td>628377</td>\n",
       "      <td>20210101.0</td>\n",
       "      <td>644.33</td>\n",
       "    </tr>\n",
       "    <tr>\n",
       "      <th>3</th>\n",
       "      <td>20210401.0</td>\n",
       "      <td>202.411065</td>\n",
       "      <td>30349574.0</td>\n",
       "      <td>32.0</td>\n",
       "      <td>Won</td>\n",
       "      <td>S</td>\n",
       "      <td>59.0</td>\n",
       "      <td>2.30</td>\n",
       "      <td>1317.0</td>\n",
       "      <td>1668701718</td>\n",
       "      <td>20210101.0</td>\n",
       "      <td>768.00</td>\n",
       "    </tr>\n",
       "    <tr>\n",
       "      <th>4</th>\n",
       "      <td>20210401.0</td>\n",
       "      <td>785.526262</td>\n",
       "      <td>30211560.0</td>\n",
       "      <td>28.0</td>\n",
       "      <td>Won</td>\n",
       "      <td>W</td>\n",
       "      <td>10.0</td>\n",
       "      <td>4.00</td>\n",
       "      <td>2000.0</td>\n",
       "      <td>640665</td>\n",
       "      <td>20210301.0</td>\n",
       "      <td>577.00</td>\n",
       "    </tr>\n",
       "    <tr>\n",
       "      <th>...</th>\n",
       "      <td>...</td>\n",
       "      <td>...</td>\n",
       "      <td>...</td>\n",
       "      <td>...</td>\n",
       "      <td>...</td>\n",
       "      <td>...</td>\n",
       "      <td>...</td>\n",
       "      <td>...</td>\n",
       "      <td>...</td>\n",
       "      <td>...</td>\n",
       "      <td>...</td>\n",
       "      <td>...</td>\n",
       "    </tr>\n",
       "    <tr>\n",
       "      <th>181668</th>\n",
       "      <td>20200702.0</td>\n",
       "      <td>102.482422</td>\n",
       "      <td>30200854.0</td>\n",
       "      <td>25.0</td>\n",
       "      <td>Won</td>\n",
       "      <td>W</td>\n",
       "      <td>41.0</td>\n",
       "      <td>0.96</td>\n",
       "      <td>1220.0</td>\n",
       "      <td>164141591</td>\n",
       "      <td>20200701.0</td>\n",
       "      <td>591.00</td>\n",
       "    </tr>\n",
       "    <tr>\n",
       "      <th>181669</th>\n",
       "      <td>20200702.0</td>\n",
       "      <td>208.086469</td>\n",
       "      <td>30200854.0</td>\n",
       "      <td>25.0</td>\n",
       "      <td>Won</td>\n",
       "      <td>W</td>\n",
       "      <td>41.0</td>\n",
       "      <td>0.95</td>\n",
       "      <td>1500.0</td>\n",
       "      <td>164141591</td>\n",
       "      <td>20200701.0</td>\n",
       "      <td>589.00</td>\n",
       "    </tr>\n",
       "    <tr>\n",
       "      <th>181670</th>\n",
       "      <td>20200702.0</td>\n",
       "      <td>4.235594</td>\n",
       "      <td>30200854.0</td>\n",
       "      <td>25.0</td>\n",
       "      <td>Won</td>\n",
       "      <td>W</td>\n",
       "      <td>41.0</td>\n",
       "      <td>0.71</td>\n",
       "      <td>1250.0</td>\n",
       "      <td>164141591</td>\n",
       "      <td>20200701.0</td>\n",
       "      <td>619.00</td>\n",
       "    </tr>\n",
       "    <tr>\n",
       "      <th>181671</th>\n",
       "      <td>20200702.0</td>\n",
       "      <td>-2000</td>\n",
       "      <td>30200854.0</td>\n",
       "      <td>25.0</td>\n",
       "      <td>Won</td>\n",
       "      <td>W</td>\n",
       "      <td>41.0</td>\n",
       "      <td>0.85</td>\n",
       "      <td>1250.0</td>\n",
       "      <td>164141591</td>\n",
       "      <td>20200701.0</td>\n",
       "      <td>601.00</td>\n",
       "    </tr>\n",
       "    <tr>\n",
       "      <th>181672</th>\n",
       "      <td>20200702.0</td>\n",
       "      <td>406.686538</td>\n",
       "      <td>30200854.0</td>\n",
       "      <td>25.0</td>\n",
       "      <td>Won</td>\n",
       "      <td>W</td>\n",
       "      <td>41.0</td>\n",
       "      <td>0.71</td>\n",
       "      <td>1240.0</td>\n",
       "      <td>164141591</td>\n",
       "      <td>20200701.0</td>\n",
       "      <td>607.00</td>\n",
       "    </tr>\n",
       "  </tbody>\n",
       "</table>\n",
       "<p>181673 rows × 12 columns</p>\n",
       "</div>"
      ],
      "text/plain": [
       "         item_date quantity tons    customer  country status item type  \\\n",
       "0       20210401.0     54.151139  30156308.0     28.0    Won         W   \n",
       "1       20210401.0    768.024839  30202938.0     25.0    Won         W   \n",
       "2       20210401.0    386.127949  30153963.0     30.0    Won        WI   \n",
       "3       20210401.0    202.411065  30349574.0     32.0    Won         S   \n",
       "4       20210401.0    785.526262  30211560.0     28.0    Won         W   \n",
       "...            ...           ...         ...      ...    ...       ...   \n",
       "181668  20200702.0    102.482422  30200854.0     25.0    Won         W   \n",
       "181669  20200702.0    208.086469  30200854.0     25.0    Won         W   \n",
       "181670  20200702.0      4.235594  30200854.0     25.0    Won         W   \n",
       "181671  20200702.0         -2000  30200854.0     25.0    Won         W   \n",
       "181672  20200702.0    406.686538  30200854.0     25.0    Won         W   \n",
       "\n",
       "        application  thickness   width  product_ref  delivery date  \\\n",
       "0              10.0       2.00  1500.0   1670798778     20210701.0   \n",
       "1              41.0       0.80  1210.0   1668701718     20210401.0   \n",
       "2              28.0       0.38   952.0       628377     20210101.0   \n",
       "3              59.0       2.30  1317.0   1668701718     20210101.0   \n",
       "4              10.0       4.00  2000.0       640665     20210301.0   \n",
       "...             ...        ...     ...          ...            ...   \n",
       "181668         41.0       0.96  1220.0    164141591     20200701.0   \n",
       "181669         41.0       0.95  1500.0    164141591     20200701.0   \n",
       "181670         41.0       0.71  1250.0    164141591     20200701.0   \n",
       "181671         41.0       0.85  1250.0    164141591     20200701.0   \n",
       "181672         41.0       0.71  1240.0    164141591     20200701.0   \n",
       "\n",
       "        selling_price  \n",
       "0              854.00  \n",
       "1             1047.00  \n",
       "2              644.33  \n",
       "3              768.00  \n",
       "4              577.00  \n",
       "...               ...  \n",
       "181668         591.00  \n",
       "181669         589.00  \n",
       "181670         619.00  \n",
       "181671         601.00  \n",
       "181672         607.00  \n",
       "\n",
       "[181673 rows x 12 columns]"
      ]
     },
     "execution_count": 46,
     "metadata": {},
     "output_type": "execute_result"
    }
   ],
   "source": [
    "# Drop the id and material_ref columns\n",
    "df = df.drop(columns=['id', 'material_ref'])\n",
    "df"
   ]
  },
  {
   "cell_type": "code",
   "execution_count": 47,
   "id": "ad9b064f",
   "metadata": {},
   "outputs": [],
   "source": [
    "# Fill missing values using forward fill method\n",
    "df = df.fillna(method='ffill')"
   ]
  },
  {
   "cell_type": "markdown",
   "id": "3d6e0a26",
   "metadata": {},
   "source": [
    "## Issues with dataset\n",
    "\n",
    "#### Refrence\n",
    "- `Dirty Data (Data with Quality issues)`: Dirty data, also known as low quality data. Low quality data has content issues.\n",
    "  - Duplicated data\n",
    "  - Missing Data\n",
    "  - Corrupt Data\n",
    "  - Inaccurate Data\n",
    "- `Messy Data (Data with tidiness issues)`: Messy data, also known as untidy data. Untidy data has structural issues.Tidy data has the following properties:\n",
    "\n",
    "  - Each variable forms a column\n",
    "  - Each observation forms a row\n",
    "  - Each observational unit forms a table\n",
    "\n",
    "\n",
    "#### Table- `daily_offers`\n",
    "\n",
    "1- Dirty Data \n",
    "- \"id\" column might have some missing data \n",
    "- \"material_ref\" column have lots of missing data\n",
    "- incorrect data type is assigned to quantity tons, item_date ,delivery date\n",
    "\n",
    "2- Messy Data\n",
    "- \"item_date\" not in proper format\n",
    "- \"delivery date\" not in proper format \n"
   ]
  },
  {
   "cell_type": "code",
   "execution_count": 48,
   "id": "1066f6b2",
   "metadata": {},
   "outputs": [],
   "source": [
    "# Convert date columns to datetime format\n",
    "date_cols = ['item_date', 'delivery date']\n",
    "for col in date_cols:\n",
    "    df[col] = pd.to_datetime(df[col], format='%Y-%m-%d')"
   ]
  },
  {
   "cell_type": "code",
   "execution_count": 49,
   "id": "d220c680",
   "metadata": {},
   "outputs": [],
   "source": [
    "# Extract year, month, and day from date columns\n",
    "df['item_year'] = df['item_date'].dt.year\n",
    "df['item_month'] = df['item_date'].dt.month\n",
    "df['item_day'] = df['item_date'].dt.day\n",
    "df['delivery_year'] = df['delivery date'].dt.year\n",
    "df['delivery_month'] = df['delivery date'].dt.month\n",
    "df['delivery_day'] = df['delivery date'].dt.day"
   ]
  },
  {
   "cell_type": "code",
   "execution_count": 50,
   "id": "24755149",
   "metadata": {},
   "outputs": [],
   "source": [
    "# Drop the original 'item_date' and 'delivery date' columns\n",
    "df = df.drop(columns=['item_date', 'delivery date'])"
   ]
  },
  {
   "cell_type": "code",
   "execution_count": 51,
   "id": "32a2eeea",
   "metadata": {},
   "outputs": [],
   "source": [
    "# Convert the 'quantity tons' column to float\n",
    "df['quantity tons'] = pd.to_numeric(df['quantity tons'], errors='coerce')\n"
   ]
  },
  {
   "cell_type": "code",
   "execution_count": 52,
   "id": "866be3e3",
   "metadata": {},
   "outputs": [],
   "source": [
    "from sklearn.preprocessing import OneHotEncoder, LabelEncoder\n",
    "from sklearn.compose import ColumnTransformer\n",
    "from sklearn.model_selection import train_test_split\n",
    "from sklearn.linear_model import LinearRegression\n",
    "from sklearn.metrics import r2_score\n",
    "from sklearn.preprocessing import StandardScaler\n",
    "from sklearn.impute import SimpleImputer"
   ]
  },
  {
   "cell_type": "code",
   "execution_count": 53,
   "id": "cf67f84a",
   "metadata": {},
   "outputs": [],
   "source": [
    "# Encode categorical variables using one-hot encoding\n",
    "categorical_cols = ['item type']\n",
    "le = LabelEncoder()\n",
    "for col in categorical_cols:\n",
    "    df[col] = le.fit_transform(df[col])\n",
    "onehotencoder = OneHotEncoder(handle_unknown='ignore')\n",
    "transformer = ColumnTransformer([('one_hot_encoder', onehotencoder, categorical_cols)], remainder='passthrough')\n",
    "df = transformer.fit_transform(df)\n",
    "df = pd.DataFrame(df)"
   ]
  },
  {
   "cell_type": "code",
   "execution_count": 54,
   "id": "090d4a97",
   "metadata": {},
   "outputs": [
    {
     "name": "stdout",
     "output_type": "stream",
     "text": [
      "         0         1         2         3         4         5          6   \\\n",
      "0 -0.012192 -0.058043 -0.179323 -0.784714 -0.002346  0.848613  -0.053783   \n",
      "1 -0.012192 -0.058043 -0.179323 -0.784714 -0.002346  0.848613  -0.053783   \n",
      "2 -0.012192 -0.058043 -0.179323 -0.784714 -0.002346 -1.178394  18.593122   \n",
      "3 -0.012192 -0.058043 -0.179323   1.27435 -0.002346 -1.178394  -0.053783   \n",
      "4 -0.012192 -0.058043 -0.179323 -0.784714 -0.002346  0.848613  -0.053783   \n",
      "\n",
      "           7           8     9   ...    12      13          14      15    16  \\\n",
      "0   54.151139  30156308.0  28.0  ...   2.0  1500.0  1670798778   854.0  1970   \n",
      "1  768.024839  30202938.0  25.0  ...   0.8  1210.0  1668701718  1047.0  1970   \n",
      "2  386.127949  30153963.0  30.0  ...  0.38   952.0      628377  644.33  1970   \n",
      "3  202.411065  30349574.0  32.0  ...   2.3  1317.0  1668701718   768.0  1970   \n",
      "4  785.526262  30211560.0  28.0  ...   4.0  2000.0      640665   577.0  1970   \n",
      "\n",
      "  17 18    19 20 21  \n",
      "0  1  1  1970  1  1  \n",
      "1  1  1  1970  1  1  \n",
      "2  1  1  1970  1  1  \n",
      "3  1  1  1970  1  1  \n",
      "4  1  1  1970  1  1  \n",
      "\n",
      "[5 rows x 22 columns]\n"
     ]
    }
   ],
   "source": [
    "# Standardize the numerical variables\n",
    "scaler = StandardScaler()\n",
    "df.iloc[:, :7] = scaler.fit_transform(df.iloc[:, :7])\n",
    "\n",
    "# Check the cleaned and preprocessed data\n",
    "print(df.head())"
   ]
  },
  {
   "cell_type": "markdown",
   "id": "b1c44df4",
   "metadata": {},
   "source": [
    "#  Methodology"
   ]
  },
  {
   "cell_type": "code",
   "execution_count": 55,
   "id": "0c27aa87",
   "metadata": {},
   "outputs": [],
   "source": [
    "# Split the data into input (X) and target (y) variables\n",
    "X = df.drop(columns=[10])\n",
    "y = df[10]\n",
    "le = LabelEncoder()\n",
    "y = le.fit_transform(y)\n",
    "# Split the data into training and testing sets\n",
    "X_train, X_test, y_train, y_test = train_test_split(X, y, test_size=0.2, random_state=42)\n",
    "\n",
    "imputer = SimpleImputer(strategy=\"mean\")\n",
    "X_train = imputer.fit_transform(X_train)"
   ]
  },
  {
   "cell_type": "markdown",
   "id": "83010b87",
   "metadata": {},
   "source": [
    "# Results and Analysis"
   ]
  },
  {
   "cell_type": "code",
   "execution_count": 56,
   "id": "82dd7b6e",
   "metadata": {},
   "outputs": [
    {
     "name": "stdout",
     "output_type": "stream",
     "text": [
      "Linear Regression r2 score: 0.123\n",
      "Ridge r2 score: 0.123\n",
      "Lasso r2 score: 0.033\n",
      "Decision Tree r2 score: 0.500\n",
      "Random Forest r2 score: 0.726\n"
     ]
    }
   ],
   "source": [
    "from sklearn.linear_model import Ridge, Lasso\n",
    "from sklearn.tree import DecisionTreeRegressor\n",
    "from sklearn.ensemble import RandomForestRegressor\n",
    "import warnings\n",
    "warnings.filterwarnings(\"ignore\")\n",
    "\n",
    "# Create regression models\n",
    "models = [\n",
    "    ('Linear Regression', LinearRegression()),\n",
    "    ('Ridge', Ridge()),\n",
    "    ('Lasso', Lasso()),\n",
    "    ('Decision Tree', DecisionTreeRegressor(random_state=42)),\n",
    "    ('Random Forest', RandomForestRegressor(random_state=42))\n",
    "]\n",
    "\n",
    "# Train and evaluate models\n",
    "for name, model in models:\n",
    "    model.fit(X_train, y_train)\n",
    "    y_pred = model.predict(X_test)\n",
    "    score = r2_score(y_test, y_pred)\n",
    "    print(f'{name} r2 score: {score:.3f}')"
   ]
  },
  {
   "cell_type": "markdown",
   "id": "9fd82586",
   "metadata": {},
   "source": [
    "# Histogram\n",
    "We can use a histogram to visualize the distribution of the selling price."
   ]
  },
  {
   "cell_type": "code",
   "execution_count": 63,
   "id": "0428b27a",
   "metadata": {},
   "outputs": [
    {
     "data": {
      "image/png": "[encoded data removed]",
      "text/plain": [
       "<Figure size 432x288 with 1 Axes>"
      ]
     },
     "metadata": {
      "needs_background": "light"
     },
     "output_type": "display_data"
    }
   ],
   "source": [
    "sns.histplot(data=df, x=2, bins=50, kde=True)\n",
    "plt.xlabel('Selling Price')\n",
    "plt.title('Distribution of Selling Price')\n",
    "plt.show()"
   ]
  },
  {
   "cell_type": "markdown",
   "id": "8f38696f",
   "metadata": {},
   "source": [
    "We can see that the distribution is right-skewed, with a long tail towards higher prices."
   ]
  },
  {
   "cell_type": "markdown",
   "id": "0413fefc",
   "metadata": {},
   "source": [
    "# Scatter plot\n",
    "We can use a scatter plot to visualize the relationship between the selling price and the quantity in tons."
   ]
  },
  {
   "cell_type": "code",
   "execution_count": 64,
   "id": "f00939d7",
   "metadata": {},
   "outputs": [
    {
     "data": {
      "image/png": "[encoded data removed]",
      "text/plain": [
       "<Figure size 432x288 with 1 Axes>"
      ]
     },
     "metadata": {
      "needs_background": "light"
     },
     "output_type": "display_data"
    }
   ],
   "source": [
    "sns.scatterplot(data=df, x=2, y=5)\n",
    "plt.xlabel('Selling Price')\n",
    "plt.ylabel('Quantity in Tons')\n",
    "plt.title('Relationship between Selling Price and Quantity in Tons')\n",
    "plt.show()"
   ]
  },
  {
   "cell_type": "markdown",
   "id": "eb29c3fd",
   "metadata": {},
   "source": [
    "We can see that there is a positive correlation between the selling price and the quantity in tons."
   ]
  },
  {
   "cell_type": "markdown",
   "id": "0c3bb773",
   "metadata": {},
   "source": [
    "#  Box plot\n",
    "We can use a box plot to visualize the distribution of the selling price for each item type."
   ]
  },
  {
   "cell_type": "code",
   "execution_count": 65,
   "id": "0029f15a",
   "metadata": {},
   "outputs": [
    {
     "data": {
      "image/png": "[encoded data removed]",
      "text/plain": [
       "<Figure size 432x288 with 1 Axes>"
      ]
     },
     "metadata": {
      "needs_background": "light"
     },
     "output_type": "display_data"
    }
   ],
   "source": [
    "sns.boxplot(data=df, x=0, y=2)\n",
    "plt.xlabel('Item Type')\n",
    "plt.ylabel('Selling Price')\n",
    "plt.title('Distribution of Selling Price for Each Item Type')\n",
    "plt.show()"
   ]
  },
  {
   "cell_type": "markdown",
   "id": "b08a8d3c",
   "metadata": {},
   "source": [
    "We can see that there are some differences in the distribution of the selling price for each item type."
   ]
  },
  {
   "cell_type": "markdown",
   "id": "c1e311cb",
   "metadata": {},
   "source": [
    "# Bar plot of R-squared scores for each model"
   ]
  },
  {
   "cell_type": "code",
   "execution_count": 67,
   "id": "40bc1f96",
   "metadata": {},
   "outputs": [
    {
     "data": {
      "image/png": "[encoded data removed]",
      "text/plain": [
       "<Figure size 432x288 with 1 Axes>"
      ]
     },
     "metadata": {
      "needs_background": "light"
     },
     "output_type": "display_data"
    }
   ],
   "source": [
    "# Train and evaluate models\n",
    "scores = []\n",
    "for name, model in models:\n",
    "    model.fit(X_train, y_train)\n",
    "    y_pred = model.predict(X_test)\n",
    "    score = r2_score(y_test, y_pred)\n",
    "    scores.append(score)\n",
    "\n",
    "# Plot bar chart of R-squared scores\n",
    "plt.bar([name for name, _ in models], scores)\n",
    "plt.title('R-squared Scores for Regression Models')\n",
    "plt.xlabel('Model')\n",
    "plt.ylabel('R-squared Score')\n",
    "plt.ylim(0, 1)\n",
    "plt.show()\n"
   ]
  },
  {
   "cell_type": "markdown",
   "id": "41c1dd81",
   "metadata": {},
   "source": [
    "# Scatter plot of predicted vs. actual values"
   ]
  },
  {
   "cell_type": "code",
   "execution_count": 68,
   "id": "1ad5f30b",
   "metadata": {},
   "outputs": [
    {
     "data": {
      "image/png": "[encoded data removed]",
      "text/plain": [
       "<Figure size 432x288 with 1 Axes>"
      ]
     },
     "metadata": {
      "needs_background": "light"
     },
     "output_type": "display_data"
    },
    {
     "data": {
      "image/png": "[encoded data removed]",
      "text/plain": [
       "<Figure size 432x288 with 1 Axes>"
      ]
     },
     "metadata": {
      "needs_background": "light"
     },
     "output_type": "display_data"
    },
    {
     "data": {
      "image/png": "[encoded data removed]",
      "text/plain": [
       "<Figure size 432x288 with 1 Axes>"
      ]
     },
     "metadata": {
      "needs_background": "light"
     },
     "output_type": "display_data"
    },
    {
     "data": {
      "image/png": "[encoded data removed]",
      "text/plain": [
       "<Figure size 432x288 with 1 Axes>"
      ]
     },
     "metadata": {
      "needs_background": "light"
     },
     "output_type": "display_data"
    },
    {
     "data": {
      "image/png": "[encoded data removed]",
      "text/plain": [
       "<Figure size 432x288 with 1 Axes>"
      ]
     },
     "metadata": {
      "needs_background": "light"
     },
     "output_type": "display_data"
    }
   ],
   "source": [
    "# Train and evaluate models\n",
    "for name, model in models:\n",
    "    model.fit(X_train, y_train)\n",
    "    y_pred = model.predict(X_test)\n",
    "    score = r2_score(y_test, y_pred)\n",
    "\n",
    "    # Plot scatter plot of predicted vs. actual values\n",
    "    plt.scatter(y_test, y_pred, alpha=0.5)\n",
    "    plt.title(f'{name} (R-squared: {score:.3f})')\n",
    "    plt.xlabel('Actual Value')\n",
    "    plt.ylabel('Predicted Value')\n",
    "    plt.show()"
   ]
  },
  {
   "cell_type": "markdown",
   "id": "0829c102",
   "metadata": {},
   "source": [
    "# Line plot of feature importances for tree-based models"
   ]
  },
  {
   "cell_type": "code",
   "execution_count": 69,
   "id": "6b2bd12b",
   "metadata": {},
   "outputs": [
    {
     "data": {
      "image/png": "[encoded data removed]",
      "text/plain": [
       "<Figure size 432x288 with 1 Axes>"
      ]
     },
     "metadata": {
      "needs_background": "light"
     },
     "output_type": "display_data"
    }
   ],
   "source": [
    "# Train and evaluate models\n",
    "for name, model in models:\n",
    "    model.fit(X_train, y_train)\n",
    "    y_pred = model.predict(X_test)\n",
    "    score = r2_score(y_test, y_pred)\n",
    "\n",
    "    # Plot line chart of feature importances for tree-based models\n",
    "    if 'Tree' in name:\n",
    "        importances = model.feature_importances_\n",
    "        indices = np.argsort(importances)[::-1]\n",
    "        plt.plot(range(len(importances)), importances[indices], 'o-')\n",
    "        plt.title(f'{name} (R-squared: {score:.3f})')\n",
    "        plt.xlabel('Feature Index (Descending Order of Importance)')\n",
    "        plt.ylabel('Importance')\n",
    "        plt.show()"
   ]
  },
  {
   "cell_type": "markdown",
   "id": "09f0c8f7",
   "metadata": {},
   "source": [
    "# CONCLUSION"
   ]
  },
  {
   "cell_type": "markdown",
   "id": "1f7bfd96",
   "metadata": {},
   "source": [
    "The dataset contains information about steel items offered to customers, with 14 columns and 181673 rows of data. The main objective is to build regression models to predict the price of an item.\n",
    "\n",
    "Data cleaning included checking for missing values and duplicate rows. The dataset had missing data in the 'id' and 'material_ref' columns. The 'quantity tons', 'item_date', and 'delivery date' columns had incorrect data types assigned. The 'item_date' and 'delivery date' columns were not in the proper format.\n",
    "\n",
    "Data exploration was conducted using the pandas, numpy, matplotlib, and seaborn libraries. The data was explored to gain insights into the data and its characteristics. The dataset was also explored mathematically using the describe function. There were no duplicate rows in the dataset.\n",
    "\n",
    "To resolve the issues with the dataset, the date columns were converted to datetime format, and the year, month, and day were extracted. The original 'item_date' and 'delivery date' columns were then dropped. The 'quantity tons' column was converted to float.\n",
    "\n",
    "In conclusion, the dataset required data cleaning and feature engineering. The cleaned dataset will be used to build regression models to predict the selling price of an item."
   ]
  },
  {
   "cell_type": "markdown",
   "id": "f6d35412",
   "metadata": {},
   "source": [
    "The models were trained using the training set (X_train and y_train), and then evaluated using the testing set (X_test and y_test). The evaluation metric used is the R-squared (r2) score, which measures the proportion of the variance in the target variable that is explained by the model.\n",
    "\n",
    "Based on the R-squared scores obtained for each model, we can see that Random Forest Regression performed the best with an r2 score of  0.726, followed by Decision Regression with an r2 score of  0.500. Linear Regression, Ridge Regression, and Lasso Tree Regression performed less well, with R-squared scores of 0.123, 0.123, and 0.033 respectively.\n",
    "\n",
    "Therefore, based on the R-squared scores obtained, we can conclude that Random Forest Regression is the best performing model among the ones tested for this dataset.\n"
   ]
  },
  {
   "cell_type": "code",
   "execution_count": null,
   "id": "417cb7e6",
   "metadata": {},
   "outputs": [],
   "source": []
  }
 ],
 "metadata": {
  "kernelspec": {
   "display_name": "Python 3 (ipykernel)",
   "language": "python",
   "name": "python3"
  },
  "language_info": {
   "codemirror_mode": {
    "name": "ipython",
    "version": 3
   },
   "file_extension": ".py",
   "mimetype": "text/x-python",
   "name": "python",
   "nbconvert_exporter": "python",
   "pygments_lexer": "ipython3",
   "version": "3.9.12"
  }
 },
 "nbformat": 4,
 "nbformat_minor": 5
}
